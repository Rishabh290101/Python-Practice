{
 "cells": [
  {
   "cell_type": "code",
   "execution_count": 4,
   "id": "74c2cf6c",
   "metadata": {},
   "outputs": [],
   "source": [
    "def conversion(s):\n",
    "    x=s.split(':')\n",
    "    if s[-2:]=='PM':\n",
    "        if x[0] != \"12\":\n",
    "            x[0] = str(int(x[0])+12)\n",
    "        else:\n",
    "            if x[0] == '12':\n",
    "                x[0]='00'\n",
    "        ntime=':'.join(x)\n",
    "        return str(ntime[:-2])"
   ]
  },
  {
   "cell_type": "code",
   "execution_count": 5,
   "id": "738d1563",
   "metadata": {},
   "outputs": [
    {
     "data": {
      "text/plain": [
       "'13:00'"
      ]
     },
     "execution_count": 5,
     "metadata": {},
     "output_type": "execute_result"
    }
   ],
   "source": [
    "y=\"01:00PM\"\n",
    "conversion(y)"
   ]
  },
  {
   "cell_type": "code",
   "execution_count": 10,
   "id": "4c8dee7f",
   "metadata": {},
   "outputs": [],
   "source": [
    "def leap(y):\n",
    "    if (year % 4) == 0:\n",
    "        if (year % 100) == 0:\n",
    "            if (year % 400) == 0:\n",
    "                print(\"{0} is a leap year\".format(year))\n",
    "            else:\n",
    "                print(\"{0} is not a leap year\".format(year))\n",
    "        else:\n",
    "            print(\"{0} is a leap year\".format(year))\n",
    "    else:\n",
    "        print(\"{0} is not a leap year\".format(year))"
   ]
  },
  {
   "cell_type": "code",
   "execution_count": 11,
   "id": "e0dde2b5",
   "metadata": {},
   "outputs": [
    {
     "name": "stdout",
     "output_type": "stream",
     "text": [
      "Enter a year: 2000\n",
      "2000 is a leap year\n"
     ]
    }
   ],
   "source": [
    "year = int(input(\"Enter a year: \"))\n",
    "leap(year)"
   ]
  },
  {
   "cell_type": "code",
   "execution_count": 48,
   "id": "8281349c",
   "metadata": {},
   "outputs": [
    {
     "name": "stdout",
     "output_type": "stream",
     "text": [
      "2000 , 2002 , 2004 , 2006 , 2008 , 2020 , 2022 , 2024 , 2026 , 2028 , 2040 , 2042 , 2044 , 2046 , 2048 , 2060 , 2062 , 2064 , 2066 , 2068 , 2080 , 2082 , 2084 , 2086 , 2088 , 2200 , 2202 , 2204 , 2206 , 2208 , 2220 , 2222 , 2224 , 2226 , 2228 , 2240 , 2242 , 2244 , 2246 , 2248 , 2260 , 2262 , 2264 , 2266 , 2268 , 2280 , 2282 , 2284 , 2286 , 2288 , 2400 , 2402 , 2404 , 2406 , 2408 , 2420 , 2422 , 2424 , 2426 , 2428 , 2440 , 2442 , 2444 , 2446 , 2448 , 2460 , 2462 , 2464 , 2466 , 2468 , 2480 , 2482 , 2484 , 2486 , 2488 , 2600 , 2602 , 2604 , 2606 , 2608 , 2620 , 2622 , 2624 , 2626 , 2628 , 2640 , 2642 , 2644 , 2646 , 2648 , 2660 , 2662 , 2664 , 2666 , 2668 , 2680 , 2682 , 2684 , 2686 , 2688 , 2800 , 2802 , 2804 , 2806 , 2808 , 2820 , 2822 , 2824 , 2826 , 2828 , 2840 , 2842 , 2844 , 2846 , 2848 , 2860 , 2862 , 2864 , 2866 , 2868 , 2880 , 2882 , 2884 , 2886 , 2888 , "
     ]
    }
   ],
   "source": [
    "for i in range(1000,3001):\n",
    "    s = str(i)\n",
    "    if (int(s[0])%2==0):\n",
    "        if (int(s[1])%2==0):\n",
    "            if (int(s[2])%2==0):\n",
    "                if (int(s[3])%2==0):\n",
    "                    print(i,\",\",end=' ')"
   ]
  },
  {
   "cell_type": "code",
   "execution_count": 28,
   "id": "8a7c029d",
   "metadata": {},
   "outputs": [],
   "source": [
    "def fizzbuzz(r):\n",
    "    for fizzbuzz in range(r):\n",
    "        if fizzbuzz % 3 == 0 and fizzbuzz % 5 == 0:\n",
    "            print(\"fizzbuzz\")\n",
    "            continue\n",
    "        elif fizzbuzz % 3 == 0:\n",
    "            print(\"fizz\")\n",
    "            continue\n",
    "        elif fizzbuzz % 5 == 0:\n",
    "            print(\"buzz\")\n",
    "            continue\n",
    "        print(fizzbuzz)"
   ]
  },
  {
   "cell_type": "code",
   "execution_count": 29,
   "id": "2d0b3075",
   "metadata": {},
   "outputs": [
    {
     "name": "stdout",
     "output_type": "stream",
     "text": [
      "Enter fizz buzz range:50\n",
      "fizzbuzz\n",
      "1\n",
      "2\n",
      "fizz\n",
      "4\n",
      "buzz\n",
      "fizz\n",
      "7\n",
      "8\n",
      "fizz\n",
      "buzz\n",
      "11\n",
      "fizz\n",
      "13\n",
      "14\n",
      "fizzbuzz\n",
      "16\n",
      "17\n",
      "fizz\n",
      "19\n",
      "buzz\n",
      "fizz\n",
      "22\n",
      "23\n",
      "fizz\n",
      "buzz\n",
      "26\n",
      "fizz\n",
      "28\n",
      "29\n",
      "fizzbuzz\n",
      "31\n",
      "32\n",
      "fizz\n",
      "34\n",
      "buzz\n",
      "fizz\n",
      "37\n",
      "38\n",
      "fizz\n",
      "buzz\n",
      "41\n",
      "fizz\n",
      "43\n",
      "44\n",
      "fizzbuzz\n",
      "46\n",
      "47\n",
      "fizz\n",
      "49\n"
     ]
    }
   ],
   "source": [
    "e=int(input(\"Enter fizz buzz range:\"))\n",
    "fizzbuzz(e)"
   ]
  },
  {
   "cell_type": "code",
   "execution_count": null,
   "id": "c6b7fb89",
   "metadata": {},
   "outputs": [],
   "source": []
  }
 ],
 "metadata": {
  "kernelspec": {
   "display_name": "Python 3",
   "language": "python",
   "name": "python3"
  },
  "language_info": {
   "codemirror_mode": {
    "name": "ipython",
    "version": 3
   },
   "file_extension": ".py",
   "mimetype": "text/x-python",
   "name": "python",
   "nbconvert_exporter": "python",
   "pygments_lexer": "ipython3",
   "version": "3.8.8"
  }
 },
 "nbformat": 4,
 "nbformat_minor": 5
}
