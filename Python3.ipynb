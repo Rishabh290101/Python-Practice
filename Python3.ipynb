{
 "cells": [
  {
   "cell_type": "code",
   "execution_count": 41,
   "id": "43c8ee81",
   "metadata": {},
   "outputs": [],
   "source": [
    "def longestword():\n",
    "    w = input(\"Enter the word:\")\n",
    "    l = w.split()\n",
    "    longest = 0\n",
    "    lword = ' '\n",
    "    print(l)\n",
    "    for i in l:\n",
    "        if((len(i))>longest):\n",
    "            lword = i\n",
    "            longest = len(i)\n",
    "    return lword"
   ]
  },
  {
   "cell_type": "code",
   "execution_count": 42,
   "id": "82d1dca4",
   "metadata": {},
   "outputs": [
    {
     "name": "stdout",
     "output_type": "stream",
     "text": [
      "Enter the word:hi i am rahul\n",
      "['hi', 'i', 'am', 'rahul']\n"
     ]
    },
    {
     "data": {
      "text/plain": [
       "'rahul'"
      ]
     },
     "execution_count": 42,
     "metadata": {},
     "output_type": "execute_result"
    }
   ],
   "source": [
    "longestword()"
   ]
  },
  {
   "cell_type": "code",
   "execution_count": 43,
   "id": "b13983cf",
   "metadata": {},
   "outputs": [
    {
     "name": "stdout",
     "output_type": "stream",
     "text": [
      "Enter sentence: hi i love computer science\n",
      "Longest word is:  computer\n",
      "And its length is:  8\n"
     ]
    }
   ],
   "source": [
    "def longestword():\n",
    "    sentence = input(\"Enter sentence: \")\n",
    "\n",
    "    longest = max(sentence.split(), key=len)\n",
    "\n",
    "    print(\"Longest word is: \", longest)\n",
    "    print(\"And its length is: \", len(longest))\n",
    "\n",
    "longestword()"
   ]
  },
  {
   "cell_type": "code",
   "execution_count": 45,
   "id": "1ec920f1",
   "metadata": {},
   "outputs": [
    {
     "name": "stdout",
     "output_type": "stream",
     "text": [
      "Enter sentence: hi i am rk\n",
      "hi i am rk\n"
     ]
    },
    {
     "data": {
      "text/plain": [
       "['hi', 'i', 'am', 'rk']"
      ]
     },
     "execution_count": 45,
     "metadata": {},
     "output_type": "execute_result"
    }
   ],
   "source": [
    "sentence = input(\"Enter sentence: \")\n",
    "s = sentence.strip()\n",
    "print(s)\n",
    "sentence.split()"
   ]
  },
  {
   "cell_type": "code",
   "execution_count": 52,
   "id": "5c6172fb",
   "metadata": {},
   "outputs": [
    {
     "name": "stdout",
     "output_type": "stream",
     "text": [
      "go\n",
      "goa\n",
      "gone\n",
      "filterly\n"
     ]
    }
   ],
   "source": [
    "def strin(st):\n",
    "    if (st.endswith('ing')):\n",
    "        if(len(st)>=3):\n",
    "            st = st.split('ing')[0]+'ly'\n",
    "    print(st)\n",
    "    \n",
    "strin('go')\n",
    "strin('goa')\n",
    "strin('gone')\n",
    "strin('filtering')"
   ]
  },
  {
   "cell_type": "code",
   "execution_count": 54,
   "id": "c8e1a061",
   "metadata": {},
   "outputs": [
    {
     "name": "stdout",
     "output_type": "stream",
     "text": [
      "The factors of 120 are:\n",
      "1\n",
      "2\n",
      "3\n",
      "4\n",
      "5\n",
      "6\n",
      "8\n",
      "10\n",
      "12\n",
      "15\n",
      "20\n",
      "24\n",
      "30\n",
      "40\n",
      "60\n",
      "120\n"
     ]
    }
   ],
   "source": [
    "def print_factors(x):\n",
    "    print(\"The factors of\",x,\"are:\")\n",
    "    for i in range(1, x + 1):\n",
    "        if x % i == 0:\n",
    "            print(i)\n",
    "\n",
    "print_factors(120)"
   ]
  },
  {
   "cell_type": "code",
   "execution_count": 108,
   "id": "b628d373",
   "metadata": {},
   "outputs": [
    {
     "name": "stdout",
     "output_type": "stream",
     "text": [
      "       #\n",
      "       ##\n",
      "       ###\n",
      "       ####\n",
      "       #####\n",
      "       ######\n",
      "       #######\n"
     ]
    }
   ],
   "source": [
    "def symmetry(x):\n",
    "    for i in range(1,x+1):\n",
    "        print(' '*(x)+'#'*(i))\n",
    "        \n",
    "\n",
    "symmetry(7)"
   ]
  },
  {
   "cell_type": "code",
   "execution_count": null,
   "id": "06f3c8a3",
   "metadata": {},
   "outputs": [],
   "source": []
  }
 ],
 "metadata": {
  "kernelspec": {
   "display_name": "Python 3",
   "language": "python",
   "name": "python3"
  },
  "language_info": {
   "codemirror_mode": {
    "name": "ipython",
    "version": 3
   },
   "file_extension": ".py",
   "mimetype": "text/x-python",
   "name": "python",
   "nbconvert_exporter": "python",
   "pygments_lexer": "ipython3",
   "version": "3.8.8"
  }
 },
 "nbformat": 4,
 "nbformat_minor": 5
}
