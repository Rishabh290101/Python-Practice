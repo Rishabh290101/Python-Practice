{
 "cells": [
  {
   "cell_type": "code",
   "execution_count": 5,
   "id": "1a946d4e",
   "metadata": {},
   "outputs": [],
   "source": [
    "def hello():\n",
    "    print('hello world')"
   ]
  },
  {
   "cell_type": "code",
   "execution_count": 6,
   "id": "7a181722",
   "metadata": {},
   "outputs": [
    {
     "name": "stdout",
     "output_type": "stream",
     "text": [
      "hello world\n"
     ]
    }
   ],
   "source": [
    "hello()"
   ]
  },
  {
   "cell_type": "code",
   "execution_count": 7,
   "id": "314d8c93",
   "metadata": {},
   "outputs": [],
   "source": [
    "def sum(a,b):\n",
    "    return a+b"
   ]
  },
  {
   "cell_type": "code",
   "execution_count": 8,
   "id": "a84a5afa",
   "metadata": {},
   "outputs": [
    {
     "data": {
      "text/plain": [
       "10"
      ]
     },
     "execution_count": 8,
     "metadata": {},
     "output_type": "execute_result"
    }
   ],
   "source": [
    "sum(8,2)"
   ]
  },
  {
   "cell_type": "code",
   "execution_count": 20,
   "id": "5c289fb5",
   "metadata": {},
   "outputs": [],
   "source": [
    "def even(a):\n",
    "    if a%2==0:\n",
    "        print(\"even\")\n",
    "    else:\n",
    "        print(\"odd\")"
   ]
  },
  {
   "cell_type": "code",
   "execution_count": 21,
   "id": "d092e117",
   "metadata": {},
   "outputs": [
    {
     "name": "stdout",
     "output_type": "stream",
     "text": [
      "Enter the number to check whether it is even or odd:5\n",
      "odd\n"
     ]
    }
   ],
   "source": [
    "b=int(input(\"Enter the number to check whether it is even or odd:\"))\n",
    "even(b)"
   ]
  },
  {
   "cell_type": "code",
   "execution_count": 35,
   "id": "b7c1078f",
   "metadata": {},
   "outputs": [],
   "source": [
    "def fact(n):\n",
    "    return 1 if (n==1 or n==0) else n * fact(n - 1);"
   ]
  },
  {
   "cell_type": "code",
   "execution_count": 36,
   "id": "84ebd025",
   "metadata": {},
   "outputs": [
    {
     "name": "stdout",
     "output_type": "stream",
     "text": [
      "Enter the number to find factorial:5\n"
     ]
    },
    {
     "data": {
      "text/plain": [
       "120"
      ]
     },
     "execution_count": 36,
     "metadata": {},
     "output_type": "execute_result"
    }
   ],
   "source": [
    "b=int(input(\"Enter the number to find factorial:\"))\n",
    "fact(b)"
   ]
  },
  {
   "cell_type": "code",
   "execution_count": 42,
   "id": "694522ed",
   "metadata": {},
   "outputs": [],
   "source": [
    "def name(a):\n",
    "    print(\"First name is:\",a.split()[0])\n",
    "    print(\"Middle name is:\",a.split()[1])\n",
    "    print(\"Last name is:\",a.split()[2])"
   ]
  },
  {
   "cell_type": "code",
   "execution_count": 43,
   "id": "58cd46f8",
   "metadata": {},
   "outputs": [
    {
     "name": "stdout",
     "output_type": "stream",
     "text": [
      "Enter the name:rohan kumar gupta\n",
      "First name is: rohan\n",
      "Middle name is: kumar\n",
      "Last name is: gupta\n"
     ]
    }
   ],
   "source": [
    "i=input(\"Enter the name:\")\n",
    "name(i)"
   ]
  },
  {
   "cell_type": "code",
   "execution_count": 82,
   "id": "a8f631e1",
   "metadata": {},
   "outputs": [],
   "source": [
    "def fibonacci(x):\n",
    "    intital=[0,1]\n",
    "    for i in range(0,x+1):\n",
    "        intital.append(intital[-2]+intital[-1])\n",
    "    return intital "
   ]
  },
  {
   "cell_type": "code",
   "execution_count": 83,
   "id": "e0faa17a",
   "metadata": {},
   "outputs": [
    {
     "data": {
      "text/plain": [
       "[0, 1, 1, 2, 3, 5, 8, 13, 21, 34]"
      ]
     },
     "execution_count": 83,
     "metadata": {},
     "output_type": "execute_result"
    }
   ],
   "source": [
    "fibonacci(7)"
   ]
  },
  {
   "cell_type": "code",
   "execution_count": 84,
   "id": "c10423f1",
   "metadata": {},
   "outputs": [],
   "source": [
    "x= lambda a: a-20"
   ]
  },
  {
   "cell_type": "code",
   "execution_count": 85,
   "id": "37232795",
   "metadata": {},
   "outputs": [
    {
     "name": "stdout",
     "output_type": "stream",
     "text": [
      "-15\n"
     ]
    }
   ],
   "source": [
    "print(x(5))"
   ]
  },
  {
   "cell_type": "code",
   "execution_count": 86,
   "id": "e345d130",
   "metadata": {},
   "outputs": [
    {
     "name": "stdout",
     "output_type": "stream",
     "text": [
      "even\n"
     ]
    }
   ],
   "source": [
    "x= lambda a: \"even\" if a%2==0 else \"odd\"\n",
    "print(x(6))"
   ]
  },
  {
   "cell_type": "code",
   "execution_count": 12,
   "id": "c9b35b36",
   "metadata": {},
   "outputs": [],
   "source": [
    "def prime(num):\n",
    "    if num > 1:\n",
    "        for i in range(2, num):\n",
    "            if (num % i) == 0:\n",
    "                flag = True\n",
    "                break"
   ]
  },
  {
   "cell_type": "code",
   "execution_count": 13,
   "id": "582c16db",
   "metadata": {},
   "outputs": [],
   "source": [
    "prime(5)"
   ]
  },
  {
   "cell_type": "code",
   "execution_count": null,
   "id": "977f95a5",
   "metadata": {},
   "outputs": [],
   "source": [
    "i=input(\"Enter the name:\")\n",
    "print(\"First name is:\",i.split())\n",
    "i"
   ]
  },
  {
   "cell_type": "code",
   "execution_count": 32,
   "id": "b1d391ce",
   "metadata": {},
   "outputs": [
    {
     "data": {
      "text/plain": [
       "[2, 4]"
      ]
     },
     "execution_count": 32,
     "metadata": {},
     "output_type": "execute_result"
    }
   ],
   "source": [
    "li=[1,2,4,57,9]\n",
    "ln=[x for x in li if (x%2==0)]\n",
    "ln"
   ]
  },
  {
   "cell_type": "code",
   "execution_count": null,
   "id": "ee43cb22",
   "metadata": {},
   "outputs": [],
   "source": []
  }
 ],
 "metadata": {
  "kernelspec": {
   "display_name": "Python 3",
   "language": "python",
   "name": "python3"
  },
  "language_info": {
   "codemirror_mode": {
    "name": "ipython",
    "version": 3
   },
   "file_extension": ".py",
   "mimetype": "text/x-python",
   "name": "python",
   "nbconvert_exporter": "python",
   "pygments_lexer": "ipython3",
   "version": "3.8.8"
  }
 },
 "nbformat": 4,
 "nbformat_minor": 5
}
