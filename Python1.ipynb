{
 "cells": [
  {
   "cell_type": "code",
   "execution_count": 5,
   "id": "40a38422",
   "metadata": {},
   "outputs": [
    {
     "name": "stdout",
     "output_type": "stream",
     "text": [
      "Hello world\n",
      "89\n",
      "49\n",
      "1380\n",
      "3.45\n"
     ]
    }
   ],
   "source": [
    "print(\"Hello world\")\n",
    "\n",
    "a= 69\n",
    "b=20\n",
    "\n",
    "\n",
    "print(a+b)\n",
    "\n",
    "print(a-b)\n",
    "print(a*b)\n",
    "print(a/b)\n"
   ]
  },
  {
   "cell_type": "code",
   "execution_count": 11,
   "id": "0057e2a6",
   "metadata": {},
   "outputs": [
    {
     "data": {
      "text/plain": [
       "'bro'"
      ]
     },
     "execution_count": 11,
     "metadata": {},
     "output_type": "execute_result"
    }
   ],
   "source": [
    "mystr=\"hey bro\"\n",
    "mystr.upper()\n",
    "mystr.lower()\n",
    "mystr.split()[1]"
   ]
  },
  {
   "cell_type": "code",
   "execution_count": 14,
   "id": "8e9a8e47",
   "metadata": {},
   "outputs": [
    {
     "data": {
      "text/plain": [
       "2"
      ]
     },
     "execution_count": 14,
     "metadata": {},
     "output_type": "execute_result"
    }
   ],
   "source": [
    "z=325320\n",
    "z=str(z)\n",
    "int(z[1])"
   ]
  },
  {
   "cell_type": "code",
   "execution_count": 15,
   "id": "155949e0",
   "metadata": {},
   "outputs": [
    {
     "data": {
      "text/plain": [
       "'anyvalue'"
      ]
     },
     "execution_count": 15,
     "metadata": {},
     "output_type": "execute_result"
    }
   ],
   "source": [
    "anylist= [\"a\",\"b\",\"c\",[\"nested\",\"anyvalue\"]]\n",
    "anylist[3][1]"
   ]
  },
  {
   "cell_type": "code",
   "execution_count": 21,
   "id": "5d334de9",
   "metadata": {},
   "outputs": [
    {
     "data": {
      "text/plain": [
       "True"
      ]
     },
     "execution_count": 21,
     "metadata": {},
     "output_type": "execute_result"
    }
   ],
   "source": [
    "arraylist=\"racecar\"\n",
    "arraylist==arraylist[::-1]\n"
   ]
  },
  {
   "cell_type": "code",
   "execution_count": 44,
   "id": "f2c73284",
   "metadata": {},
   "outputs": [],
   "source": [
    "#samplelist=[\"rohan\",\"yeh\",\"see\"]\n",
    "samplelist.insert(0,\"beigning\")\n",
    "\n"
   ]
  },
  {
   "cell_type": "code",
   "execution_count": 53,
   "id": "4df65c46",
   "metadata": {},
   "outputs": [
    {
     "data": {
      "text/plain": [
       "dict_values(['hi', 'yo', 'ya'])"
      ]
     },
     "execution_count": 53,
     "metadata": {},
     "output_type": "execute_result"
    }
   ],
   "source": [
    "mydic={\"car1\":\"hi\",\"car2\":\"yo\",\"car3\":\"ya\"}\n",
    "mydic.values()"
   ]
  },
  {
   "cell_type": "code",
   "execution_count": 61,
   "id": "9c554829",
   "metadata": {},
   "outputs": [],
   "source": [
    "# Python3 code to demonstrate\n",
    "# conversion of lists to dictionary\n",
    "# using zip()\n",
    "\n",
    "# initializing lists\n",
    "test_keys = [\"Rash\", \"Kil\", \"Varsha\"]\n",
    "test_values = [1, 4, 5]\n",
    "\n",
    "# # Printing original keys-value lists\n",
    "# print (\"Original key list is : \" + str(test_keys))\n",
    "# print (\"Original value list is : \" + str(test_values))\n",
    "\n",
    "# using zip()\n",
    "# to convert lists to dictionary\n",
    "res = dict(zip(test_keys, test_values))\n",
    "\n",
    "# Printing resultant dictionary\n",
    "#print (\"Resultant dictionary is : \" + str(res))\n"
   ]
  },
  {
   "cell_type": "code",
   "execution_count": 62,
   "id": "38dfe96b",
   "metadata": {},
   "outputs": [
    {
     "data": {
      "text/plain": [
       "{'Rash': 1, 'Kil': 4, 'Varsha': 5}"
      ]
     },
     "execution_count": 62,
     "metadata": {},
     "output_type": "execute_result"
    }
   ],
   "source": [
    "res"
   ]
  },
  {
   "cell_type": "code",
   "execution_count": 4,
   "id": "cefc5cf3",
   "metadata": {},
   "outputs": [
    {
     "name": "stdout",
     "output_type": "stream",
     "text": [
      "Enter marks:10000\n",
      "pass\n"
     ]
    }
   ],
   "source": [
    "marks=int(input(\"Enter marks:\"))\n",
    "if marks>=60:\n",
    "    print(\"pass\")\n",
    "elif marks>=40 and marks<=60:\n",
    "    print(\"Average\")\n",
    "else:\n",
    "    print(\"fail\")\n",
    "            "
   ]
  },
  {
   "cell_type": "code",
   "execution_count": null,
   "id": "4057646d",
   "metadata": {},
   "outputs": [],
   "source": []
  },
  {
   "cell_type": "code",
   "execution_count": null,
   "id": "c76c00bf",
   "metadata": {},
   "outputs": [],
   "source": []
  },
  {
   "cell_type": "code",
   "execution_count": null,
   "id": "fb8561e3",
   "metadata": {},
   "outputs": [],
   "source": []
  },
  {
   "cell_type": "code",
   "execution_count": null,
   "id": "e4a6edf4",
   "metadata": {},
   "outputs": [],
   "source": []
  },
  {
   "cell_type": "code",
   "execution_count": null,
   "id": "ddce350d",
   "metadata": {},
   "outputs": [],
   "source": []
  },
  {
   "cell_type": "code",
   "execution_count": null,
   "id": "ca857eac",
   "metadata": {},
   "outputs": [],
   "source": []
  },
  {
   "cell_type": "code",
   "execution_count": 7,
   "id": "d7eca5b2",
   "metadata": {},
   "outputs": [
    {
     "name": "stdout",
     "output_type": "stream",
     "text": [
      "4\n",
      "2\n",
      "6\n"
     ]
    }
   ],
   "source": [
    "test_values = [1, 4, 5,2,6,7]\n",
    "for i in test_values:\n",
    "    if i%2==0:\n",
    "        print(i)"
   ]
  },
  {
   "cell_type": "code",
   "execution_count": 2,
   "id": "37977b86",
   "metadata": {},
   "outputs": [
    {
     "name": "stdout",
     "output_type": "stream",
     "text": [
      "Enter the number:5\n",
      "120\n"
     ]
    }
   ],
   "source": [
    "y=int(input(\"Enter the number:\"))\n",
    "fact=1\n",
    "for i in range(1,y+1):\n",
    "    fact=fact*i\n",
    "    \n",
    "print(fact)"
   ]
  },
  {
   "cell_type": "code",
   "execution_count": 7,
   "id": "0d819f04",
   "metadata": {},
   "outputs": [
    {
     "name": "stdout",
     "output_type": "stream",
     "text": [
      "16256\n",
      "16384\n"
     ]
    }
   ],
   "source": [
    "sume=0\n",
    "sumo=0\n",
    "for i in range(1,256):\n",
    "    if i%2==0:\n",
    "        sume=sume+i\n",
    "    else:\n",
    "        sumo=sumo+i\n",
    "print(sume)\n",
    "print(sumo)"
   ]
  },
  {
   "cell_type": "code",
   "execution_count": 10,
   "id": "e0d8f81a",
   "metadata": {},
   "outputs": [
    {
     "name": "stdout",
     "output_type": "stream",
     "text": [
      "Enter the terms15\n",
      "0 1 1 2 3 5 8 13 21 34 55 89 144 233 377 "
     ]
    }
   ],
   "source": [
    "intital=[0,1]\n",
    "number=7\n",
    "for i in range(number):\n",
    "    inital.append(Intial)"
   ]
  },
  {
   "cell_type": "code",
   "execution_count": null,
   "id": "a4ab2fe2",
   "metadata": {},
   "outputs": [],
   "source": []
  }
 ],
 "metadata": {
  "kernelspec": {
   "display_name": "Python 3",
   "language": "python",
   "name": "python3"
  },
  "language_info": {
   "codemirror_mode": {
    "name": "ipython",
    "version": 3
   },
   "file_extension": ".py",
   "mimetype": "text/x-python",
   "name": "python",
   "nbconvert_exporter": "python",
   "pygments_lexer": "ipython3",
   "version": "3.8.8"
  }
 },
 "nbformat": 4,
 "nbformat_minor": 5
}
